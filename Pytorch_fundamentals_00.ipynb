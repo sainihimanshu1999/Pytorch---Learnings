{
  "nbformat": 4,
  "nbformat_minor": 0,
  "metadata": {
    "colab": {
      "provenance": [],
      "gpuType": "T4"
    },
    "kernelspec": {
      "name": "python3",
      "display_name": "Python 3"
    },
    "language_info": {
      "name": "python"
    },
    "accelerator": "GPU"
  },
  "cells": [
    {
      "cell_type": "markdown",
      "source": [
        "## 00. Pytorch Fundamentals"
      ],
      "metadata": {
        "id": "C_E2tW3v7gXh"
      }
    },
    {
      "cell_type": "code",
      "execution_count": 61,
      "metadata": {
        "colab": {
          "base_uri": "https://localhost:8080/"
        },
        "id": "rD_r_iSX6pJv",
        "outputId": "b87b6eb1-2f52-4d48-aa81-bd47c5703e71"
      },
      "outputs": [
        {
          "output_type": "stream",
          "name": "stdout",
          "text": [
            "yo, let's learn pytorch. Gonna be great\n"
          ]
        }
      ],
      "source": [
        "print(\"yo, let's learn pytorch. Gonna be great\")"
      ]
    },
    {
      "cell_type": "code",
      "source": [
        "!nvidia-smi"
      ],
      "metadata": {
        "colab": {
          "base_uri": "https://localhost:8080/"
        },
        "id": "cgj4ZGIA68Pe",
        "outputId": "ee1e324f-e911-456a-fc74-34f7906dbf43"
      },
      "execution_count": 62,
      "outputs": [
        {
          "output_type": "stream",
          "name": "stdout",
          "text": [
            "Mon Jan 22 09:21:27 2024       \n",
            "+---------------------------------------------------------------------------------------+\n",
            "| NVIDIA-SMI 535.104.05             Driver Version: 535.104.05   CUDA Version: 12.2     |\n",
            "|-----------------------------------------+----------------------+----------------------+\n",
            "| GPU  Name                 Persistence-M | Bus-Id        Disp.A | Volatile Uncorr. ECC |\n",
            "| Fan  Temp   Perf          Pwr:Usage/Cap |         Memory-Usage | GPU-Util  Compute M. |\n",
            "|                                         |                      |               MIG M. |\n",
            "|=========================================+======================+======================|\n",
            "|   0  Tesla T4                       Off | 00000000:00:04.0 Off |                    0 |\n",
            "| N/A   37C    P8              11W /  70W |      0MiB / 15360MiB |      0%      Default |\n",
            "|                                         |                      |                  N/A |\n",
            "+-----------------------------------------+----------------------+----------------------+\n",
            "                                                                                         \n",
            "+---------------------------------------------------------------------------------------+\n",
            "| Processes:                                                                            |\n",
            "|  GPU   GI   CI        PID   Type   Process name                            GPU Memory |\n",
            "|        ID   ID                                                             Usage      |\n",
            "|=======================================================================================|\n",
            "|  No running processes found                                                           |\n",
            "+---------------------------------------------------------------------------------------+\n"
          ]
        }
      ]
    },
    {
      "cell_type": "code",
      "source": [
        "## importing libraries\n",
        "\n",
        "import torch\n",
        "import pandas as pd\n",
        "import numpy as np\n",
        "import matplotlib.pyplot as plt\n",
        "print(torch.__version__)"
      ],
      "metadata": {
        "colab": {
          "base_uri": "https://localhost:8080/"
        },
        "id": "uj0kFHEX7O-S",
        "outputId": "445d3a1e-0eeb-4981-c437-a174534a9c67"
      },
      "execution_count": 63,
      "outputs": [
        {
          "output_type": "stream",
          "name": "stdout",
          "text": [
            "2.1.0+cu121\n"
          ]
        }
      ]
    },
    {
      "cell_type": "markdown",
      "source": [
        "## Introduction to Tensors\n",
        "### Creating tensors"
      ],
      "metadata": {
        "id": "EeCQyXsM8PFq"
      }
    },
    {
      "cell_type": "code",
      "source": [
        "# scalar tensor\n",
        "\n",
        "scalar = torch.tensor(7)\n",
        "scalar"
      ],
      "metadata": {
        "colab": {
          "base_uri": "https://localhost:8080/"
        },
        "id": "D2i3cvgs88ZC",
        "outputId": "1f1f8876-e278-4fea-d787-4d3595fbc830"
      },
      "execution_count": 64,
      "outputs": [
        {
          "output_type": "execute_result",
          "data": {
            "text/plain": [
              "tensor(7)"
            ]
          },
          "metadata": {},
          "execution_count": 64
        }
      ]
    },
    {
      "cell_type": "code",
      "source": [
        "# to check the dimensions\n",
        "# since it's a scalar hence no dimensions\n",
        "scalar.ndim"
      ],
      "metadata": {
        "colab": {
          "base_uri": "https://localhost:8080/"
        },
        "id": "xShavggm9COi",
        "outputId": "c76f6db6-7eda-40b8-a04d-8dc299fb0d17"
      },
      "execution_count": 65,
      "outputs": [
        {
          "output_type": "execute_result",
          "data": {
            "text/plain": [
              "0"
            ]
          },
          "metadata": {},
          "execution_count": 65
        }
      ]
    },
    {
      "cell_type": "code",
      "source": [
        "# to get tensor back as python int\n",
        "scalar.item()"
      ],
      "metadata": {
        "colab": {
          "base_uri": "https://localhost:8080/"
        },
        "id": "ayNzuLCt9cGK",
        "outputId": "33480ddd-8c92-4f93-bf4e-d465b8be6b87"
      },
      "execution_count": 66,
      "outputs": [
        {
          "output_type": "execute_result",
          "data": {
            "text/plain": [
              "7"
            ]
          },
          "metadata": {},
          "execution_count": 66
        }
      ]
    },
    {
      "cell_type": "code",
      "source": [
        "#vector - mathematically vector has some magnitude and direction\n",
        "\n",
        "vector = torch.tensor([6,6])\n",
        "vector\n"
      ],
      "metadata": {
        "colab": {
          "base_uri": "https://localhost:8080/"
        },
        "id": "9LZS9U4V9iiV",
        "outputId": "c162c0bd-19a2-4462-d35e-3defa7916a33"
      },
      "execution_count": 67,
      "outputs": [
        {
          "output_type": "execute_result",
          "data": {
            "text/plain": [
              "tensor([6, 6])"
            ]
          },
          "metadata": {},
          "execution_count": 67
        }
      ]
    },
    {
      "cell_type": "code",
      "source": [
        "vector.ndim"
      ],
      "metadata": {
        "colab": {
          "base_uri": "https://localhost:8080/"
        },
        "id": "Lu_t7QNp93ah",
        "outputId": "56cd0e7b-c028-4397-8604-5bf18e0bdef8"
      },
      "execution_count": 68,
      "outputs": [
        {
          "output_type": "execute_result",
          "data": {
            "text/plain": [
              "1"
            ]
          },
          "metadata": {},
          "execution_count": 68
        }
      ]
    },
    {
      "cell_type": "code",
      "source": [
        "#ndim just give the count of pair of square brackets\n",
        "#shape kinda gives the number of elements\n",
        "\n",
        "vector.shape"
      ],
      "metadata": {
        "colab": {
          "base_uri": "https://localhost:8080/"
        },
        "id": "qsYzbzPm95S9",
        "outputId": "2a26dbea-00fc-4022-a3a0-7b302f8dc8bc"
      },
      "execution_count": 69,
      "outputs": [
        {
          "output_type": "execute_result",
          "data": {
            "text/plain": [
              "torch.Size([2])"
            ]
          },
          "metadata": {},
          "execution_count": 69
        }
      ]
    },
    {
      "cell_type": "code",
      "source": [
        "#Matrix\n",
        "\n",
        "matrix = torch.tensor([[7,7],\n",
        "                       [6,6]])\n",
        "\n",
        "matrix"
      ],
      "metadata": {
        "colab": {
          "base_uri": "https://localhost:8080/"
        },
        "id": "8uTAEiZF-KBp",
        "outputId": "5a4fee20-dc15-4d06-89e1-70991abb34e8"
      },
      "execution_count": 70,
      "outputs": [
        {
          "output_type": "execute_result",
          "data": {
            "text/plain": [
              "tensor([[7, 7],\n",
              "        [6, 6]])"
            ]
          },
          "metadata": {},
          "execution_count": 70
        }
      ]
    },
    {
      "cell_type": "code",
      "source": [
        "matrix.ndim"
      ],
      "metadata": {
        "colab": {
          "base_uri": "https://localhost:8080/"
        },
        "id": "kkd1pLE7-Z31",
        "outputId": "ef386149-baa7-49c8-97aa-02310e68d2ef"
      },
      "execution_count": 71,
      "outputs": [
        {
          "output_type": "execute_result",
          "data": {
            "text/plain": [
              "2"
            ]
          },
          "metadata": {},
          "execution_count": 71
        }
      ]
    },
    {
      "cell_type": "code",
      "source": [
        "matrix.shape"
      ],
      "metadata": {
        "colab": {
          "base_uri": "https://localhost:8080/"
        },
        "id": "w2YJODJI-bAl",
        "outputId": "d784c917-9d07-47d8-e1a5-94ecd40a8db5"
      },
      "execution_count": 72,
      "outputs": [
        {
          "output_type": "execute_result",
          "data": {
            "text/plain": [
              "torch.Size([2, 2])"
            ]
          },
          "metadata": {},
          "execution_count": 72
        }
      ]
    },
    {
      "cell_type": "code",
      "source": [
        "# Tensor\n",
        "\n",
        "tensor = torch.tensor([[[1,1,1],\n",
        "                        [2,2,2],\n",
        "                        [3,3,3]]])\n",
        "\n",
        "tensor"
      ],
      "metadata": {
        "colab": {
          "base_uri": "https://localhost:8080/"
        },
        "id": "sVJEfZ2P-fWh",
        "outputId": "21af16ba-e6fd-4ceb-ebc9-e132163897e3"
      },
      "execution_count": 73,
      "outputs": [
        {
          "output_type": "execute_result",
          "data": {
            "text/plain": [
              "tensor([[[1, 1, 1],\n",
              "         [2, 2, 2],\n",
              "         [3, 3, 3]]])"
            ]
          },
          "metadata": {},
          "execution_count": 73
        }
      ]
    },
    {
      "cell_type": "code",
      "source": [
        "tensor.ndim"
      ],
      "metadata": {
        "colab": {
          "base_uri": "https://localhost:8080/"
        },
        "id": "3atBWLeS-5TV",
        "outputId": "a24e937c-1c44-41f4-cbc5-44560e33aaee"
      },
      "execution_count": 74,
      "outputs": [
        {
          "output_type": "execute_result",
          "data": {
            "text/plain": [
              "3"
            ]
          },
          "metadata": {},
          "execution_count": 74
        }
      ]
    },
    {
      "cell_type": "code",
      "source": [
        "tensor.shape"
      ],
      "metadata": {
        "colab": {
          "base_uri": "https://localhost:8080/"
        },
        "id": "zWSVIb6x-8pR",
        "outputId": "86855783-1c1b-48a8-f787-4531b43d3c3b"
      },
      "execution_count": 75,
      "outputs": [
        {
          "output_type": "execute_result",
          "data": {
            "text/plain": [
              "torch.Size([1, 3, 3])"
            ]
          },
          "metadata": {},
          "execution_count": 75
        }
      ]
    },
    {
      "cell_type": "markdown",
      "source": [
        "### Random tensors\n",
        "\n",
        "Randome tensors are important because the way neural networks is that it starts with tensors full of random numbers and\n",
        "then adjust those random numbers to better represent the data\n",
        "\n",
        "`start with random numbers -> look at the data -> update random numbers -> look at the data -> update random numbers`"
      ],
      "metadata": {
        "id": "qKbr507G-_wR"
      }
    },
    {
      "cell_type": "code",
      "source": [
        "# creating a random tensor\n",
        "\n",
        "random_tensor = torch.rand(3,4)\n",
        "random_tensor"
      ],
      "metadata": {
        "colab": {
          "base_uri": "https://localhost:8080/"
        },
        "id": "jT7KJvggA3SL",
        "outputId": "ecb2ca9a-4e3a-481b-bbf2-e402ba14fd3a"
      },
      "execution_count": 76,
      "outputs": [
        {
          "output_type": "execute_result",
          "data": {
            "text/plain": [
              "tensor([[0.4330, 0.7329, 0.7029, 0.5346],\n",
              "        [0.5402, 0.8578, 0.0015, 0.8251],\n",
              "        [0.7775, 0.6012, 0.3734, 0.5574]])"
            ]
          },
          "metadata": {},
          "execution_count": 76
        }
      ]
    },
    {
      "cell_type": "code",
      "source": [
        "random_tensor.ndim\n"
      ],
      "metadata": {
        "colab": {
          "base_uri": "https://localhost:8080/"
        },
        "id": "4TSV8ijGBLSF",
        "outputId": "189aca87-b0e3-481a-a5e5-794a77bda436"
      },
      "execution_count": 77,
      "outputs": [
        {
          "output_type": "execute_result",
          "data": {
            "text/plain": [
              "2"
            ]
          },
          "metadata": {},
          "execution_count": 77
        }
      ]
    },
    {
      "cell_type": "code",
      "source": [
        "random_tensor.shape"
      ],
      "metadata": {
        "colab": {
          "base_uri": "https://localhost:8080/"
        },
        "id": "cVCHpdCNBPvJ",
        "outputId": "59a8ccb5-5c5a-4d5e-d254-a5379128a732"
      },
      "execution_count": 78,
      "outputs": [
        {
          "output_type": "execute_result",
          "data": {
            "text/plain": [
              "torch.Size([3, 4])"
            ]
          },
          "metadata": {},
          "execution_count": 78
        }
      ]
    },
    {
      "cell_type": "code",
      "source": [
        "#creating a random tensor with similar shape to image tensor\n",
        "\n",
        "random_image_size_tensor = torch.rand(size=(224,224,3)) # size = height,weight,color channels\n"
      ],
      "metadata": {
        "id": "CHW88u5mBSgZ"
      },
      "execution_count": 79,
      "outputs": []
    },
    {
      "cell_type": "code",
      "source": [
        "random_image_size_tensor.ndim, random_image_size_tensor.shape"
      ],
      "metadata": {
        "colab": {
          "base_uri": "https://localhost:8080/"
        },
        "id": "fnVmOrmfB6kd",
        "outputId": "d5292fd3-9daa-4f9f-d3c9-f25f4a6bff2b"
      },
      "execution_count": 80,
      "outputs": [
        {
          "output_type": "execute_result",
          "data": {
            "text/plain": [
              "(3, torch.Size([224, 224, 3]))"
            ]
          },
          "metadata": {},
          "execution_count": 80
        }
      ]
    },
    {
      "cell_type": "markdown",
      "source": [
        "### Zeroes and Ones tensors\n",
        "\n",
        "They are usually helpful in creating masks.\n",
        "Masking is a method of indicating which elements of a matrix or vector should and should not be used in the form of (0s and 1s)"
      ],
      "metadata": {
        "id": "taeAZ_vLCAuN"
      }
    },
    {
      "cell_type": "code",
      "source": [
        "#creating tensors of all zeros\n",
        "\n",
        "zeros = torch.zeros(size=(3,4))\n",
        "zeros"
      ],
      "metadata": {
        "colab": {
          "base_uri": "https://localhost:8080/"
        },
        "id": "ubaPBodQDFS2",
        "outputId": "d5453b77-bfa6-468d-b12e-3e37a2c56b02"
      },
      "execution_count": 81,
      "outputs": [
        {
          "output_type": "execute_result",
          "data": {
            "text/plain": [
              "tensor([[0., 0., 0., 0.],\n",
              "        [0., 0., 0., 0.],\n",
              "        [0., 0., 0., 0.]])"
            ]
          },
          "metadata": {},
          "execution_count": 81
        }
      ]
    },
    {
      "cell_type": "code",
      "source": [
        "#creating tensor of all ones\n",
        "\n",
        "ones = torch.ones(size=(4,3))\n",
        "ones"
      ],
      "metadata": {
        "colab": {
          "base_uri": "https://localhost:8080/"
        },
        "id": "iWSI_Hq8I2SN",
        "outputId": "ca951212-6fdc-421f-badc-8bfd5c0b7df8"
      },
      "execution_count": 82,
      "outputs": [
        {
          "output_type": "execute_result",
          "data": {
            "text/plain": [
              "tensor([[1., 1., 1.],\n",
              "        [1., 1., 1.],\n",
              "        [1., 1., 1.],\n",
              "        [1., 1., 1.]])"
            ]
          },
          "metadata": {},
          "execution_count": 82
        }
      ]
    },
    {
      "cell_type": "code",
      "source": [
        "#unless we specify the data type, the default is float32\n",
        "zeros.dtype,ones.dtype"
      ],
      "metadata": {
        "colab": {
          "base_uri": "https://localhost:8080/"
        },
        "id": "WMAfzxxEJJTZ",
        "outputId": "5235c2e5-69d8-4187-e16d-852a366746ec"
      },
      "execution_count": 83,
      "outputs": [
        {
          "output_type": "execute_result",
          "data": {
            "text/plain": [
              "(torch.float32, torch.float32)"
            ]
          },
          "metadata": {},
          "execution_count": 83
        }
      ]
    },
    {
      "cell_type": "markdown",
      "source": [
        "### Creating range of tensors or tensors like"
      ],
      "metadata": {
        "id": "drFC0oP7JOT9"
      }
    },
    {
      "cell_type": "code",
      "source": [
        "#using torch.arange(start,end,step), start is included and end is not, step is one default\n",
        "zero_to_one = torch.arange(0,1000,77 )\n",
        "zero_to_one"
      ],
      "metadata": {
        "colab": {
          "base_uri": "https://localhost:8080/"
        },
        "id": "q5p7HkA4Jo7X",
        "outputId": "f24f1ba4-cce9-44e7-a972-b121ec00f385"
      },
      "execution_count": 84,
      "outputs": [
        {
          "output_type": "execute_result",
          "data": {
            "text/plain": [
              "tensor([  0,  77, 154, 231, 308, 385, 462, 539, 616, 693, 770, 847, 924])"
            ]
          },
          "metadata": {},
          "execution_count": 84
        }
      ]
    },
    {
      "cell_type": "code",
      "source": [
        "#creating tensors like, so that we can replicate the shape of other tensor without explicitly defining the shape\n",
        "zeros_like_above = torch.zeros_like(zero_to_one)\n",
        "zeros_like_above"
      ],
      "metadata": {
        "colab": {
          "base_uri": "https://localhost:8080/"
        },
        "id": "QnVNkM1DJyNJ",
        "outputId": "119f6f9b-6116-4d2d-eb02-3826c13af0d2"
      },
      "execution_count": 85,
      "outputs": [
        {
          "output_type": "execute_result",
          "data": {
            "text/plain": [
              "tensor([0, 0, 0, 0, 0, 0, 0, 0, 0, 0, 0, 0, 0])"
            ]
          },
          "metadata": {},
          "execution_count": 85
        }
      ]
    },
    {
      "cell_type": "markdown",
      "source": [
        "### Datatype in tensors\n",
        "\n",
        "Note: Datatypes in tensors are cause broadly these 3 errors in pytorch or deeplearning\n",
        "  1. Tensors not in right datatype\n",
        "  2. Tensors not in right shape\n",
        "  3. Tensors not in right device"
      ],
      "metadata": {
        "id": "HJ_g_zGaK7-R"
      }
    },
    {
      "cell_type": "code",
      "source": [
        "float_32_tensor = torch.tensor([3.0,6.9,7.8],\n",
        "                               dtype = None, # datatype of tensor it can be float32,float16 and many more\n",
        "                               device = None, #cpu or cuda for selecting either cpu or gpu\n",
        "                               requires_grad = False, # to keep the gradients while computing this tensors\n",
        "                               )\n",
        "float_32_tensor"
      ],
      "metadata": {
        "colab": {
          "base_uri": "https://localhost:8080/"
        },
        "id": "YLci0SRNNJNy",
        "outputId": "4e38a703-6c88-405d-e9d6-5414308cc27c"
      },
      "execution_count": 86,
      "outputs": [
        {
          "output_type": "execute_result",
          "data": {
            "text/plain": [
              "tensor([3.0000, 6.9000, 7.8000])"
            ]
          },
          "metadata": {},
          "execution_count": 86
        }
      ]
    },
    {
      "cell_type": "code",
      "source": [
        "float_32_tensor.dtype"
      ],
      "metadata": {
        "colab": {
          "base_uri": "https://localhost:8080/"
        },
        "id": "sT-Cy_m2N1Mq",
        "outputId": "c10c4505-d169-48fd-d10e-beb920fc05d1"
      },
      "execution_count": 87,
      "outputs": [
        {
          "output_type": "execute_result",
          "data": {
            "text/plain": [
              "torch.float32"
            ]
          },
          "metadata": {},
          "execution_count": 87
        }
      ]
    },
    {
      "cell_type": "code",
      "source": [
        "#convertig float32 tensor into float16 tensor\n",
        "\n",
        "float_16_tensor = float_32_tensor.type(torch.float16)\n",
        "float_16_tensor"
      ],
      "metadata": {
        "colab": {
          "base_uri": "https://localhost:8080/"
        },
        "id": "ZdeYQu6zN4l5",
        "outputId": "eaed388c-a223-4f64-b2f4-0379be3d5bf3"
      },
      "execution_count": 88,
      "outputs": [
        {
          "output_type": "execute_result",
          "data": {
            "text/plain": [
              "tensor([3.0000, 6.8984, 7.8008], dtype=torch.float16)"
            ]
          },
          "metadata": {},
          "execution_count": 88
        }
      ]
    },
    {
      "cell_type": "code",
      "source": [
        "float_16_tensor.dtype"
      ],
      "metadata": {
        "colab": {
          "base_uri": "https://localhost:8080/"
        },
        "id": "54Rxgzx4QUR8",
        "outputId": "a979b56d-2ff3-4f45-dd16-7cd448e99598"
      },
      "execution_count": 89,
      "outputs": [
        {
          "output_type": "execute_result",
          "data": {
            "text/plain": [
              "torch.float16"
            ]
          },
          "metadata": {},
          "execution_count": 89
        }
      ]
    },
    {
      "cell_type": "markdown",
      "source": [
        " ### Getting information from tensors\n",
        "  1. Tensors not in right datatype -- to check datatype `tensor.dtype`\n",
        "  2. Tensors not in right shape --  to check shape `tensor.shape`\n",
        "  3. Tensors not in right device -- to check device `tensor.device`"
      ],
      "metadata": {
        "id": "6NjMOJyhQW85"
      }
    },
    {
      "cell_type": "code",
      "source": [
        "some_tensor = torch.rand(3,4)\n",
        "some_tensor"
      ],
      "metadata": {
        "colab": {
          "base_uri": "https://localhost:8080/"
        },
        "id": "aDsB4WwLRl8V",
        "outputId": "a44ad9f2-7178-4dfa-ec12-1218b49fa553"
      },
      "execution_count": 90,
      "outputs": [
        {
          "output_type": "execute_result",
          "data": {
            "text/plain": [
              "tensor([[0.8337, 0.0823, 0.8457, 0.5307],\n",
              "        [0.7138, 0.6253, 0.0432, 0.0647],\n",
              "        [0.9506, 0.9827, 0.9751, 0.7982]])"
            ]
          },
          "metadata": {},
          "execution_count": 90
        }
      ]
    },
    {
      "cell_type": "code",
      "source": [
        "some_tensor.dtype"
      ],
      "metadata": {
        "colab": {
          "base_uri": "https://localhost:8080/"
        },
        "id": "CtflIrJORtyx",
        "outputId": "3cef4898-ace2-4d3b-baff-ee4356af7a14"
      },
      "execution_count": 91,
      "outputs": [
        {
          "output_type": "execute_result",
          "data": {
            "text/plain": [
              "torch.float32"
            ]
          },
          "metadata": {},
          "execution_count": 91
        }
      ]
    },
    {
      "cell_type": "code",
      "source": [
        "some_tensor.shape"
      ],
      "metadata": {
        "colab": {
          "base_uri": "https://localhost:8080/"
        },
        "id": "ffBj-8vDRxHd",
        "outputId": "cd45cfc1-fca6-4798-e9f7-e8a2421e6c89"
      },
      "execution_count": 92,
      "outputs": [
        {
          "output_type": "execute_result",
          "data": {
            "text/plain": [
              "torch.Size([3, 4])"
            ]
          },
          "metadata": {},
          "execution_count": 92
        }
      ]
    },
    {
      "cell_type": "code",
      "source": [
        "some_tensor.device"
      ],
      "metadata": {
        "colab": {
          "base_uri": "https://localhost:8080/"
        },
        "id": "fx-qzIihR03t",
        "outputId": "a149fbb6-c2c5-4142-a46d-ef364de5563b"
      },
      "execution_count": 93,
      "outputs": [
        {
          "output_type": "execute_result",
          "data": {
            "text/plain": [
              "device(type='cpu')"
            ]
          },
          "metadata": {},
          "execution_count": 93
        }
      ]
    },
    {
      "cell_type": "markdown",
      "source": [
        "### Manipulating tensors (tensor operations)\n",
        "* Addition\n",
        "* Subtraction\n",
        "* Multiplication\n",
        "* Division\n",
        "* Matrix Multiplication"
      ],
      "metadata": {
        "id": "SVdAqaRCR29e"
      }
    },
    {
      "cell_type": "code",
      "source": [
        "# creating a tensor\n",
        "\n",
        "tensor = torch.tensor([1,2,3])\n",
        "\n",
        "# addition\n",
        "print(tensor+10)\n",
        "#subtraction\n",
        "print(tensor-87)\n",
        "#mulitplication\n",
        "print(tensor*9)\n",
        "#division\n",
        "print(tensor/3)"
      ],
      "metadata": {
        "colab": {
          "base_uri": "https://localhost:8080/"
        },
        "id": "CoiXILxUSwcJ",
        "outputId": "4961e9d8-0c64-462e-ebcc-3640f3074eca"
      },
      "execution_count": 94,
      "outputs": [
        {
          "output_type": "stream",
          "name": "stdout",
          "text": [
            "tensor([11, 12, 13])\n",
            "tensor([-86, -85, -84])\n",
            "tensor([ 9, 18, 27])\n",
            "tensor([0.3333, 0.6667, 1.0000])\n"
          ]
        }
      ]
    },
    {
      "cell_type": "code",
      "source": [
        "# there are builtin functions of pytorch for this too but it's kinda easier to use the python way\n",
        "# addition\n",
        "print(torch.add(tensor,10))\n",
        "#subtraction\n",
        "print(torch.sub(tensor,10))\n",
        "#mulitplication\n",
        "print(torch.mul(tensor,9))\n",
        "#division\n",
        "print(torch.div(tensor,3))"
      ],
      "metadata": {
        "colab": {
          "base_uri": "https://localhost:8080/"
        },
        "id": "JxwWwOVFTFrR",
        "outputId": "9b27edae-a626-49a4-ca94-550b19250925"
      },
      "execution_count": 95,
      "outputs": [
        {
          "output_type": "stream",
          "name": "stdout",
          "text": [
            "tensor([11, 12, 13])\n",
            "tensor([-9, -8, -7])\n",
            "tensor([ 9, 18, 27])\n",
            "tensor([0.3333, 0.6667, 1.0000])\n"
          ]
        }
      ]
    },
    {
      "cell_type": "markdown",
      "source": [
        "### Matrix Multiplication\n",
        "There are basically two ways for matrix mulitplication in nueral networks or deep learning\n",
        "* element wise\n",
        "* matrix multiplication (dot product)\n",
        "\n",
        "Two rules that need to satisfy to make matrix multiplication works:\n",
        "* the inner dimension should match\n",
        "* the output matrix have the outer dimension"
      ],
      "metadata": {
        "id": "xkwnDLFoTqBS"
      }
    },
    {
      "cell_type": "code",
      "source": [
        "# element wise multuiplication\n",
        "print(tensor ,'*', tensor)\n",
        "print(f\"Equals: {tensor*tensor}\")"
      ],
      "metadata": {
        "colab": {
          "base_uri": "https://localhost:8080/"
        },
        "id": "eFsA3mAeeuq2",
        "outputId": "7cf35b4c-e6cb-44d3-c9d4-b0337889dae3"
      },
      "execution_count": 98,
      "outputs": [
        {
          "output_type": "stream",
          "name": "stdout",
          "text": [
            "tensor([1, 2, 3]) * tensor([1, 2, 3])\n",
            "Equals: tensor([1, 4, 9])\n"
          ]
        }
      ]
    },
    {
      "cell_type": "code",
      "source": [
        "#Matrix multiplication\n",
        "torch.matmul(tensor,tensor)"
      ],
      "metadata": {
        "colab": {
          "base_uri": "https://localhost:8080/"
        },
        "id": "U0lIJV93e2Qd",
        "outputId": "c2389427-acba-4a98-dcf2-03f5f487d050"
      },
      "execution_count": 100,
      "outputs": [
        {
          "output_type": "execute_result",
          "data": {
            "text/plain": [
              "tensor(14)"
            ]
          },
          "metadata": {},
          "execution_count": 100
        }
      ]
    },
    {
      "cell_type": "markdown",
      "source": [
        "### Most common issue in matrix multiplication is the shape issue"
      ],
      "metadata": {
        "id": "bmRftvhFfODR"
      }
    },
    {
      "cell_type": "code",
      "source": [
        "tensor_A = torch.tensor([[1,2],\n",
        "                         [3,4],\n",
        "                         [5,6]])\n",
        "\n",
        "tensor_B = torch.tensor([[7,8],\n",
        "                         [9,10],\n",
        "                         [11,12]])\n",
        "\n",
        "#torch.mm(tensor_A,tensor_B) torch.mm is same as torch.matmul\n",
        "torch.matmul(tensor_A, tensor_B)"
      ],
      "metadata": {
        "colab": {
          "base_uri": "https://localhost:8080/",
          "height": 211
        },
        "id": "RVjbDuiPhP0G",
        "outputId": "db547fe1-51dd-48d8-ebf6-4c4b176c794a"
      },
      "execution_count": 102,
      "outputs": [
        {
          "output_type": "error",
          "ename": "RuntimeError",
          "evalue": "mat1 and mat2 shapes cannot be multiplied (3x2 and 3x2)",
          "traceback": [
            "\u001b[0;31m---------------------------------------------------------------------------\u001b[0m",
            "\u001b[0;31mRuntimeError\u001b[0m                              Traceback (most recent call last)",
            "\u001b[0;32m<ipython-input-102-b9c23177ec9e>\u001b[0m in \u001b[0;36m<cell line: 10>\u001b[0;34m()\u001b[0m\n\u001b[1;32m      8\u001b[0m \u001b[0;34m\u001b[0m\u001b[0m\n\u001b[1;32m      9\u001b[0m \u001b[0;31m#torch.mm(tensor_A,tensor_B) torch.mm is same as torch.matmul\u001b[0m\u001b[0;34m\u001b[0m\u001b[0;34m\u001b[0m\u001b[0m\n\u001b[0;32m---> 10\u001b[0;31m \u001b[0mtorch\u001b[0m\u001b[0;34m.\u001b[0m\u001b[0mmatmul\u001b[0m\u001b[0;34m(\u001b[0m\u001b[0mtensor_A\u001b[0m\u001b[0;34m,\u001b[0m \u001b[0mtensor_B\u001b[0m\u001b[0;34m)\u001b[0m\u001b[0;34m\u001b[0m\u001b[0;34m\u001b[0m\u001b[0m\n\u001b[0m",
            "\u001b[0;31mRuntimeError\u001b[0m: mat1 and mat2 shapes cannot be multiplied (3x2 and 3x2)"
          ]
        }
      ]
    },
    {
      "cell_type": "markdown",
      "source": [
        "To fix this shape issue we can manipulate the shape of one of our tensors using **Transpose** menthod\n",
        "**Transpose** basically switches the axes or the dimension of the given tensor"
      ],
      "metadata": {
        "id": "9t_SxwSmhpXJ"
      }
    },
    {
      "cell_type": "code",
      "source": [
        "tensor_A.shape, tensor_B.shape"
      ],
      "metadata": {
        "colab": {
          "base_uri": "https://localhost:8080/"
        },
        "id": "PTBqtZtxiR3Y",
        "outputId": "fc3e33f2-e236-4458-d047-9113b83d57e1"
      },
      "execution_count": 103,
      "outputs": [
        {
          "output_type": "execute_result",
          "data": {
            "text/plain": [
              "(torch.Size([3, 2]), torch.Size([3, 2]))"
            ]
          },
          "metadata": {},
          "execution_count": 103
        }
      ]
    },
    {
      "cell_type": "code",
      "source": [
        "tensor_B.T.shape ## .T gives the transpose of the tensor"
      ],
      "metadata": {
        "colab": {
          "base_uri": "https://localhost:8080/"
        },
        "id": "e8ixYK78iWAq",
        "outputId": "bb7c273f-3099-4969-afff-b35a9e6302e9"
      },
      "execution_count": 105,
      "outputs": [
        {
          "output_type": "execute_result",
          "data": {
            "text/plain": [
              "torch.Size([2, 3])"
            ]
          },
          "metadata": {},
          "execution_count": 105
        }
      ]
    },
    {
      "cell_type": "code",
      "source": [
        "torch.matmul(tensor_A, tensor_B.T)"
      ],
      "metadata": {
        "colab": {
          "base_uri": "https://localhost:8080/"
        },
        "id": "ynC3RXQGibGt",
        "outputId": "32debdbd-30c8-4ee7-afb8-173860be112f"
      },
      "execution_count": 108,
      "outputs": [
        {
          "output_type": "execute_result",
          "data": {
            "text/plain": [
              "tensor([[ 23,  29,  35],\n",
              "        [ 53,  67,  81],\n",
              "        [ 83, 105, 127]])"
            ]
          },
          "metadata": {},
          "execution_count": 108
        }
      ]
    },
    {
      "cell_type": "markdown",
      "source": [
        "## Finding the max,min,mean,sum,etc (Tensor aggregation)"
      ],
      "metadata": {
        "id": "S-J4rWPOitmR"
      }
    },
    {
      "cell_type": "code",
      "source": [
        "x = torch.arange(0,100,10)\n",
        "x"
      ],
      "metadata": {
        "colab": {
          "base_uri": "https://localhost:8080/"
        },
        "id": "grgGhFnmjce6",
        "outputId": "7a31d728-e3bc-4d18-b47c-e58e9d662a53"
      },
      "execution_count": 109,
      "outputs": [
        {
          "output_type": "execute_result",
          "data": {
            "text/plain": [
              "tensor([ 0, 10, 20, 30, 40, 50, 60, 70, 80, 90])"
            ]
          },
          "metadata": {},
          "execution_count": 109
        }
      ]
    },
    {
      "cell_type": "code",
      "source": [
        "#minimum\n",
        "print(f\"minimum {torch.min(x), x.min()}\")\n",
        "#maximum\n",
        "print(f\"maximum {torch.max(x), x.max()}\")\n",
        "#mean here mean function require specific type of input\n",
        "print(f\"mean {torch.mean(x.type(torch.float32)), x.type(torch.float32).mean()}\")\n",
        "#sum\n",
        "print(f\"sum {torch.sum(x), x.sum()}\")"
      ],
      "metadata": {
        "colab": {
          "base_uri": "https://localhost:8080/"
        },
        "id": "6nL4lNp9jnzS",
        "outputId": "7a6b68ee-d8e8-4224-fd7a-afe45dbcf623"
      },
      "execution_count": 111,
      "outputs": [
        {
          "output_type": "stream",
          "name": "stdout",
          "text": [
            "minimum (tensor(0), tensor(0))\n",
            "maximum (tensor(90), tensor(90))\n",
            "mean (tensor(45.), tensor(45.))\n",
            "sum (tensor(450), tensor(450))\n"
          ]
        }
      ]
    },
    {
      "cell_type": "markdown",
      "source": [
        "### Finding the positional minimum and maximum"
      ],
      "metadata": {
        "id": "oISH_iSjkVEh"
      }
    },
    {
      "cell_type": "code",
      "source": [
        "x"
      ],
      "metadata": {
        "colab": {
          "base_uri": "https://localhost:8080/"
        },
        "id": "4w-w2HmKkxWi",
        "outputId": "861be41c-7f1d-45e0-d33a-992f7725588d"
      },
      "execution_count": 112,
      "outputs": [
        {
          "output_type": "execute_result",
          "data": {
            "text/plain": [
              "tensor([ 0, 10, 20, 30, 40, 50, 60, 70, 80, 90])"
            ]
          },
          "metadata": {},
          "execution_count": 112
        }
      ]
    },
    {
      "cell_type": "code",
      "source": [
        "#argmin\n",
        "print(f\"position (index) of minimum value in the tensor {x.argmin()}\")\n",
        "#argmax\n",
        "print(f\"position (index)  of maximum value in the tensor {x.argmax()}\")"
      ],
      "metadata": {
        "colab": {
          "base_uri": "https://localhost:8080/"
        },
        "id": "tm-Q294DkyJK",
        "outputId": "0eaf81ff-2db1-4a66-8d2b-eb8cf7733da5"
      },
      "execution_count": 114,
      "outputs": [
        {
          "output_type": "stream",
          "name": "stdout",
          "text": [
            "position (index) of minimum value in the tensor 0\n",
            "position (index)  of maximum value in the tensor 9\n"
          ]
        }
      ]
    },
    {
      "cell_type": "markdown",
      "source": [
        "### Reshaping, Stacking, Squeezing and Unsqueezing (tensors)"
      ],
      "metadata": {
        "id": "TGMbo3q4lAtu"
      }
    },
    {
      "cell_type": "code",
      "source": [],
      "metadata": {
        "id": "5byF93Mflp56"
      },
      "execution_count": null,
      "outputs": []
    }
  ]
}